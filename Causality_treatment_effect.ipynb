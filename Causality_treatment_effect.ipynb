{
 "cells": [
  {
   "cell_type": "code",
   "execution_count": 1,
   "id": "081757c0",
   "metadata": {},
   "outputs": [],
   "source": [
    "%matplotlib inline\n",
    "\n",
    "import numpy as np\n",
    "import matplotlib.pyplot as plt\n",
    "import pandas as pd\n",
    "import itertools"
   ]
  },
  {
   "cell_type": "code",
   "execution_count": 2,
   "id": "7d2469d3",
   "metadata": {},
   "outputs": [],
   "source": [
    "import statsmodels.api as sm "
   ]
  },
  {
   "cell_type": "code",
   "execution_count": 3,
   "id": "a44fd9b9",
   "metadata": {},
   "outputs": [],
   "source": [
    "from statsmodels.api import (add_constant,OLS, Logit, )\n",
    "\n",
    "from sklearn.preprocessing import PolynomialFeatures\n",
    "from sklearn.model_selection import train_test_split\n",
    "from sklearn.metrics import r2_score,confusion_matrix,ConfusionMatrixDisplay, roc_curve, auc,  RocCurveDisplay"
   ]
  },
  {
   "cell_type": "code",
   "execution_count": 4,
   "id": "5fbd22f8",
   "metadata": {},
   "outputs": [],
   "source": [
    "from math import (log, exp)\n",
    "from itertools import combinations"
   ]
  },
  {
   "cell_type": "code",
   "execution_count": 5,
   "id": "35ef7a09",
   "metadata": {},
   "outputs": [],
   "source": [
    "cust_df = pd.read_csv(\"customer.csv\")\n",
    "\n",
    "sales_df = pd.read_csv(\"sales.csv\")\n",
    "\n",
    "sales_df = sales_df.iloc[:,1:]"
   ]
  },
  {
   "cell_type": "code",
   "execution_count": 6,
   "id": "6c83026b",
   "metadata": {},
   "outputs": [
    {
     "data": {
      "text/html": [
       "<div>\n",
       "<style scoped>\n",
       "    .dataframe tbody tr th:only-of-type {\n",
       "        vertical-align: middle;\n",
       "    }\n",
       "\n",
       "    .dataframe tbody tr th {\n",
       "        vertical-align: top;\n",
       "    }\n",
       "\n",
       "    .dataframe thead th {\n",
       "        text-align: right;\n",
       "    }\n",
       "</style>\n",
       "<table border=\"1\" class=\"dataframe\">\n",
       "  <thead>\n",
       "    <tr style=\"text-align: right;\">\n",
       "      <th></th>\n",
       "      <th>User ID</th>\n",
       "      <th>Gender</th>\n",
       "      <th>Age</th>\n",
       "      <th>EstimatedSalary</th>\n",
       "      <th>Purchased</th>\n",
       "    </tr>\n",
       "  </thead>\n",
       "  <tbody>\n",
       "    <tr>\n",
       "      <th>0</th>\n",
       "      <td>15624510</td>\n",
       "      <td>Male</td>\n",
       "      <td>19</td>\n",
       "      <td>19000</td>\n",
       "      <td>0</td>\n",
       "    </tr>\n",
       "    <tr>\n",
       "      <th>1</th>\n",
       "      <td>15810944</td>\n",
       "      <td>Male</td>\n",
       "      <td>35</td>\n",
       "      <td>20000</td>\n",
       "      <td>0</td>\n",
       "    </tr>\n",
       "    <tr>\n",
       "      <th>2</th>\n",
       "      <td>15668575</td>\n",
       "      <td>Female</td>\n",
       "      <td>26</td>\n",
       "      <td>43000</td>\n",
       "      <td>0</td>\n",
       "    </tr>\n",
       "    <tr>\n",
       "      <th>3</th>\n",
       "      <td>15603246</td>\n",
       "      <td>Female</td>\n",
       "      <td>27</td>\n",
       "      <td>57000</td>\n",
       "      <td>0</td>\n",
       "    </tr>\n",
       "    <tr>\n",
       "      <th>4</th>\n",
       "      <td>15804002</td>\n",
       "      <td>Male</td>\n",
       "      <td>19</td>\n",
       "      <td>76000</td>\n",
       "      <td>0</td>\n",
       "    </tr>\n",
       "  </tbody>\n",
       "</table>\n",
       "</div>"
      ],
      "text/plain": [
       "    User ID  Gender  Age  EstimatedSalary  Purchased\n",
       "0  15624510    Male   19            19000          0\n",
       "1  15810944    Male   35            20000          0\n",
       "2  15668575  Female   26            43000          0\n",
       "3  15603246  Female   27            57000          0\n",
       "4  15804002    Male   19            76000          0"
      ]
     },
     "execution_count": 6,
     "metadata": {},
     "output_type": "execute_result"
    }
   ],
   "source": [
    "cust_df.head()"
   ]
  },
  {
   "cell_type": "code",
   "execution_count": 7,
   "id": "e3d643d9",
   "metadata": {},
   "outputs": [
    {
     "data": {
      "text/html": [
       "<div>\n",
       "<style scoped>\n",
       "    .dataframe tbody tr th:only-of-type {\n",
       "        vertical-align: middle;\n",
       "    }\n",
       "\n",
       "    .dataframe tbody tr th {\n",
       "        vertical-align: top;\n",
       "    }\n",
       "\n",
       "    .dataframe thead th {\n",
       "        text-align: right;\n",
       "    }\n",
       "</style>\n",
       "<table border=\"1\" class=\"dataframe\">\n",
       "  <thead>\n",
       "    <tr style=\"text-align: right;\">\n",
       "      <th></th>\n",
       "      <th>area1_sales</th>\n",
       "      <th>area2_sales</th>\n",
       "      <th>area3_sales</th>\n",
       "      <th>total_sales</th>\n",
       "    </tr>\n",
       "  </thead>\n",
       "  <tbody>\n",
       "    <tr>\n",
       "      <th>0</th>\n",
       "      <td>0.79</td>\n",
       "      <td>0.80</td>\n",
       "      <td>0.02</td>\n",
       "      <td>1.75</td>\n",
       "    </tr>\n",
       "    <tr>\n",
       "      <th>1</th>\n",
       "      <td>0.83</td>\n",
       "      <td>0.08</td>\n",
       "      <td>0.18</td>\n",
       "      <td>1.75</td>\n",
       "    </tr>\n",
       "    <tr>\n",
       "      <th>2</th>\n",
       "      <td>0.85</td>\n",
       "      <td>0.01</td>\n",
       "      <td>0.22</td>\n",
       "      <td>1.75</td>\n",
       "    </tr>\n",
       "    <tr>\n",
       "      <th>3</th>\n",
       "      <td>1.25</td>\n",
       "      <td>0.00</td>\n",
       "      <td>0.03</td>\n",
       "      <td>1.75</td>\n",
       "    </tr>\n",
       "    <tr>\n",
       "      <th>4</th>\n",
       "      <td>0.72</td>\n",
       "      <td>0.04</td>\n",
       "      <td>0.10</td>\n",
       "      <td>1.74</td>\n",
       "    </tr>\n",
       "  </tbody>\n",
       "</table>\n",
       "</div>"
      ],
      "text/plain": [
       "   area1_sales  area2_sales  area3_sales  total_sales\n",
       "0         0.79         0.80         0.02         1.75\n",
       "1         0.83         0.08         0.18         1.75\n",
       "2         0.85         0.01         0.22         1.75\n",
       "3         1.25         0.00         0.03         1.75\n",
       "4         0.72         0.04         0.10         1.74"
      ]
     },
     "execution_count": 7,
     "metadata": {},
     "output_type": "execute_result"
    }
   ],
   "source": [
    "sales_df.head()"
   ]
  },
  {
   "cell_type": "markdown",
   "id": "564ae7e7",
   "metadata": {},
   "source": [
    "Q1 write code to show effects of interactions, if any, on the linear regression model to predict the total_sales for a new area using given sales from three areas."
   ]
  },
  {
   "cell_type": "code",
   "execution_count": 8,
   "id": "de361012",
   "metadata": {},
   "outputs": [],
   "source": [
    "x = sales_df.iloc[:,0:3]\n",
    "y = sales_df.iloc[:,3]"
   ]
  },
  {
   "cell_type": "code",
   "execution_count": 9,
   "id": "ac70c004",
   "metadata": {},
   "outputs": [
    {
     "name": "stdout",
     "output_type": "stream",
     "text": [
      "                            OLS Regression Results                            \n",
      "==============================================================================\n",
      "Dep. Variable:            total_sales   R-squared:                       0.702\n",
      "Model:                            OLS   Adj. R-squared:                  0.702\n",
      "Method:                 Least Squares   F-statistic:                     2354.\n",
      "Date:                Sat, 21 Jan 2023   Prob (F-statistic):               0.00\n",
      "Time:                        18:56:04   Log-Likelihood:                 761.25\n",
      "No. Observations:                3000   AIC:                            -1515.\n",
      "Df Residuals:                    2996   BIC:                            -1490.\n",
      "Df Model:                           3                                         \n",
      "Covariance Type:            nonrobust                                         \n",
      "===============================================================================\n",
      "                  coef    std err          t      P>|t|      [0.025      0.975]\n",
      "-------------------------------------------------------------------------------\n",
      "const           0.2601      0.008     30.743      0.000       0.243       0.277\n",
      "area1_sales     0.9148      0.013     72.435      0.000       0.890       0.940\n",
      "area2_sales     0.7489      0.015     49.102      0.000       0.719       0.779\n",
      "area3_sales     1.7136      0.039     44.344      0.000       1.638       1.789\n",
      "==============================================================================\n",
      "Omnibus:                      482.733   Durbin-Watson:                   1.442\n",
      "Prob(Omnibus):                  0.000   Jarque-Bera (JB):             2611.741\n",
      "Skew:                           0.653   Prob(JB):                         0.00\n",
      "Kurtosis:                       7.380   Cond. No.                         12.7\n",
      "==============================================================================\n",
      "\n",
      "Notes:\n",
      "[1] Standard Errors assume that the covariance matrix of the errors is correctly specified.\n"
     ]
    }
   ],
   "source": [
    "x_vars = add_constant(x,has_constant= \"add\")\n",
    "\n",
    "model = OLS(y, x_vars).fit()\n",
    "\n",
    "print(model.summary())"
   ]
  },
  {
   "cell_type": "markdown",
   "id": "292e1a9d",
   "metadata": {},
   "source": [
    "##### with interaction "
   ]
  },
  {
   "cell_type": "code",
   "execution_count": 10,
   "id": "a93b54f5",
   "metadata": {},
   "outputs": [
    {
     "data": {
      "text/html": [
       "<div>\n",
       "<style scoped>\n",
       "    .dataframe tbody tr th:only-of-type {\n",
       "        vertical-align: middle;\n",
       "    }\n",
       "\n",
       "    .dataframe tbody tr th {\n",
       "        vertical-align: top;\n",
       "    }\n",
       "\n",
       "    .dataframe thead th {\n",
       "        text-align: right;\n",
       "    }\n",
       "</style>\n",
       "<table border=\"1\" class=\"dataframe\">\n",
       "  <thead>\n",
       "    <tr style=\"text-align: right;\">\n",
       "      <th></th>\n",
       "      <th>const</th>\n",
       "      <th>area1_sales</th>\n",
       "      <th>area2_sales</th>\n",
       "      <th>area3_sales</th>\n",
       "    </tr>\n",
       "  </thead>\n",
       "  <tbody>\n",
       "    <tr>\n",
       "      <th>0</th>\n",
       "      <td>1.0</td>\n",
       "      <td>0.79</td>\n",
       "      <td>0.80</td>\n",
       "      <td>0.02</td>\n",
       "    </tr>\n",
       "    <tr>\n",
       "      <th>1</th>\n",
       "      <td>1.0</td>\n",
       "      <td>0.83</td>\n",
       "      <td>0.08</td>\n",
       "      <td>0.18</td>\n",
       "    </tr>\n",
       "    <tr>\n",
       "      <th>2</th>\n",
       "      <td>1.0</td>\n",
       "      <td>0.85</td>\n",
       "      <td>0.01</td>\n",
       "      <td>0.22</td>\n",
       "    </tr>\n",
       "    <tr>\n",
       "      <th>3</th>\n",
       "      <td>1.0</td>\n",
       "      <td>1.25</td>\n",
       "      <td>0.00</td>\n",
       "      <td>0.03</td>\n",
       "    </tr>\n",
       "    <tr>\n",
       "      <th>4</th>\n",
       "      <td>1.0</td>\n",
       "      <td>0.72</td>\n",
       "      <td>0.04</td>\n",
       "      <td>0.10</td>\n",
       "    </tr>\n",
       "    <tr>\n",
       "      <th>...</th>\n",
       "      <td>...</td>\n",
       "      <td>...</td>\n",
       "      <td>...</td>\n",
       "      <td>...</td>\n",
       "    </tr>\n",
       "    <tr>\n",
       "      <th>2995</th>\n",
       "      <td>1.0</td>\n",
       "      <td>0.20</td>\n",
       "      <td>0.00</td>\n",
       "      <td>0.07</td>\n",
       "    </tr>\n",
       "    <tr>\n",
       "      <th>2996</th>\n",
       "      <td>1.0</td>\n",
       "      <td>0.28</td>\n",
       "      <td>0.00</td>\n",
       "      <td>0.04</td>\n",
       "    </tr>\n",
       "    <tr>\n",
       "      <th>2997</th>\n",
       "      <td>1.0</td>\n",
       "      <td>0.00</td>\n",
       "      <td>0.49</td>\n",
       "      <td>0.00</td>\n",
       "    </tr>\n",
       "    <tr>\n",
       "      <th>2998</th>\n",
       "      <td>1.0</td>\n",
       "      <td>0.07</td>\n",
       "      <td>0.09</td>\n",
       "      <td>0.07</td>\n",
       "    </tr>\n",
       "    <tr>\n",
       "      <th>2999</th>\n",
       "      <td>1.0</td>\n",
       "      <td>0.24</td>\n",
       "      <td>0.00</td>\n",
       "      <td>0.06</td>\n",
       "    </tr>\n",
       "  </tbody>\n",
       "</table>\n",
       "<p>3000 rows × 4 columns</p>\n",
       "</div>"
      ],
      "text/plain": [
       "      const  area1_sales  area2_sales  area3_sales\n",
       "0       1.0         0.79         0.80         0.02\n",
       "1       1.0         0.83         0.08         0.18\n",
       "2       1.0         0.85         0.01         0.22\n",
       "3       1.0         1.25         0.00         0.03\n",
       "4       1.0         0.72         0.04         0.10\n",
       "...     ...          ...          ...          ...\n",
       "2995    1.0         0.20         0.00         0.07\n",
       "2996    1.0         0.28         0.00         0.04\n",
       "2997    1.0         0.00         0.49         0.00\n",
       "2998    1.0         0.07         0.09         0.07\n",
       "2999    1.0         0.24         0.00         0.06\n",
       "\n",
       "[3000 rows x 4 columns]"
      ]
     },
     "execution_count": 10,
     "metadata": {},
     "output_type": "execute_result"
    }
   ],
   "source": [
    "x_vars"
   ]
  },
  {
   "cell_type": "code",
   "execution_count": 11,
   "id": "94d53a9f",
   "metadata": {},
   "outputs": [],
   "source": [
    "interactions = PolynomialFeatures(interaction_only=True, degree= 3)\n",
    "X_interactions = interactions.fit_transform(x_vars.iloc[:,1:])\n",
    "\n",
    "                                 "
   ]
  },
  {
   "cell_type": "code",
   "execution_count": 12,
   "id": "ce967d3a",
   "metadata": {},
   "outputs": [],
   "source": [
    "X_interactions = pd.DataFrame(X_interactions,columns=interactions.get_feature_names_out())\n",
    "X_interactions.rename(columns= {\"1\":\"const\"}, inplace=True)"
   ]
  },
  {
   "cell_type": "code",
   "execution_count": 13,
   "id": "fc2334c3",
   "metadata": {},
   "outputs": [
    {
     "data": {
      "text/html": [
       "<div>\n",
       "<style scoped>\n",
       "    .dataframe tbody tr th:only-of-type {\n",
       "        vertical-align: middle;\n",
       "    }\n",
       "\n",
       "    .dataframe tbody tr th {\n",
       "        vertical-align: top;\n",
       "    }\n",
       "\n",
       "    .dataframe thead th {\n",
       "        text-align: right;\n",
       "    }\n",
       "</style>\n",
       "<table border=\"1\" class=\"dataframe\">\n",
       "  <thead>\n",
       "    <tr style=\"text-align: right;\">\n",
       "      <th></th>\n",
       "      <th>const</th>\n",
       "      <th>area1_sales</th>\n",
       "      <th>area2_sales</th>\n",
       "      <th>area3_sales</th>\n",
       "      <th>area1_sales area2_sales</th>\n",
       "      <th>area1_sales area3_sales</th>\n",
       "      <th>area2_sales area3_sales</th>\n",
       "      <th>area1_sales area2_sales area3_sales</th>\n",
       "    </tr>\n",
       "  </thead>\n",
       "  <tbody>\n",
       "    <tr>\n",
       "      <th>0</th>\n",
       "      <td>1.0</td>\n",
       "      <td>0.79</td>\n",
       "      <td>0.80</td>\n",
       "      <td>0.02</td>\n",
       "      <td>0.6320</td>\n",
       "      <td>0.0158</td>\n",
       "      <td>0.0160</td>\n",
       "      <td>0.012640</td>\n",
       "    </tr>\n",
       "    <tr>\n",
       "      <th>1</th>\n",
       "      <td>1.0</td>\n",
       "      <td>0.83</td>\n",
       "      <td>0.08</td>\n",
       "      <td>0.18</td>\n",
       "      <td>0.0664</td>\n",
       "      <td>0.1494</td>\n",
       "      <td>0.0144</td>\n",
       "      <td>0.011952</td>\n",
       "    </tr>\n",
       "    <tr>\n",
       "      <th>2</th>\n",
       "      <td>1.0</td>\n",
       "      <td>0.85</td>\n",
       "      <td>0.01</td>\n",
       "      <td>0.22</td>\n",
       "      <td>0.0085</td>\n",
       "      <td>0.1870</td>\n",
       "      <td>0.0022</td>\n",
       "      <td>0.001870</td>\n",
       "    </tr>\n",
       "    <tr>\n",
       "      <th>3</th>\n",
       "      <td>1.0</td>\n",
       "      <td>1.25</td>\n",
       "      <td>0.00</td>\n",
       "      <td>0.03</td>\n",
       "      <td>0.0000</td>\n",
       "      <td>0.0375</td>\n",
       "      <td>0.0000</td>\n",
       "      <td>0.000000</td>\n",
       "    </tr>\n",
       "    <tr>\n",
       "      <th>4</th>\n",
       "      <td>1.0</td>\n",
       "      <td>0.72</td>\n",
       "      <td>0.04</td>\n",
       "      <td>0.10</td>\n",
       "      <td>0.0288</td>\n",
       "      <td>0.0720</td>\n",
       "      <td>0.0040</td>\n",
       "      <td>0.002880</td>\n",
       "    </tr>\n",
       "  </tbody>\n",
       "</table>\n",
       "</div>"
      ],
      "text/plain": [
       "   const  area1_sales  area2_sales  area3_sales  area1_sales area2_sales  \\\n",
       "0    1.0         0.79         0.80         0.02                   0.6320   \n",
       "1    1.0         0.83         0.08         0.18                   0.0664   \n",
       "2    1.0         0.85         0.01         0.22                   0.0085   \n",
       "3    1.0         1.25         0.00         0.03                   0.0000   \n",
       "4    1.0         0.72         0.04         0.10                   0.0288   \n",
       "\n",
       "   area1_sales area3_sales  area2_sales area3_sales  \\\n",
       "0                   0.0158                   0.0160   \n",
       "1                   0.1494                   0.0144   \n",
       "2                   0.1870                   0.0022   \n",
       "3                   0.0375                   0.0000   \n",
       "4                   0.0720                   0.0040   \n",
       "\n",
       "   area1_sales area2_sales area3_sales  \n",
       "0                             0.012640  \n",
       "1                             0.011952  \n",
       "2                             0.001870  \n",
       "3                             0.000000  \n",
       "4                             0.002880  "
      ]
     },
     "execution_count": 13,
     "metadata": {},
     "output_type": "execute_result"
    }
   ],
   "source": [
    "X_interactions.head()"
   ]
  },
  {
   "cell_type": "code",
   "execution_count": 14,
   "id": "39294237",
   "metadata": {},
   "outputs": [
    {
     "name": "stdout",
     "output_type": "stream",
     "text": [
      "                            OLS Regression Results                            \n",
      "==============================================================================\n",
      "Dep. Variable:            total_sales   R-squared:                       0.716\n",
      "Model:                            OLS   Adj. R-squared:                  0.715\n",
      "Method:                 Least Squares   F-statistic:                     1075.\n",
      "Date:                Sat, 21 Jan 2023   Prob (F-statistic):               0.00\n",
      "Time:                        18:56:06   Log-Likelihood:                 830.59\n",
      "No. Observations:                3000   AIC:                            -1645.\n",
      "Df Residuals:                    2992   BIC:                            -1597.\n",
      "Df Model:                           7                                         \n",
      "Covariance Type:            nonrobust                                         \n",
      "=======================================================================================================\n",
      "                                          coef    std err          t      P>|t|      [0.025      0.975]\n",
      "-------------------------------------------------------------------------------------------------------\n",
      "const                                   0.3119      0.010     32.077      0.000       0.293       0.331\n",
      "area1_sales                             0.7852      0.018     42.656      0.000       0.749       0.821\n",
      "area2_sales                             0.6518      0.020     33.057      0.000       0.613       0.690\n",
      "area3_sales                             1.2583      0.065     19.447      0.000       1.131       1.385\n",
      "area1_sales area2_sales                 0.1991      0.091      2.188      0.029       0.021       0.377\n",
      "area1_sales area3_sales                 1.0889      0.144      7.550      0.000       0.806       1.372\n",
      "area2_sales area3_sales                 0.1994      0.458      0.436      0.663      -0.698       1.097\n",
      "area1_sales area2_sales area3_sales     5.3078      1.461      3.634      0.000       2.444       8.172\n",
      "==============================================================================\n",
      "Omnibus:                      550.091   Durbin-Watson:                   1.453\n",
      "Prob(Omnibus):                  0.000   Jarque-Bera (JB):             2499.463\n",
      "Skew:                           0.815   Prob(JB):                         0.00\n",
      "Kurtosis:                       7.164   Cond. No.                         496.\n",
      "==============================================================================\n",
      "\n",
      "Notes:\n",
      "[1] Standard Errors assume that the covariance matrix of the errors is correctly specified.\n"
     ]
    }
   ],
   "source": [
    "model_interactions = OLS(y, X_interactions).fit()\n",
    "\n",
    "print(model_interactions.summary())"
   ]
  },
  {
   "cell_type": "markdown",
   "id": "afd6d7a8",
   "metadata": {},
   "source": [
    "### Q2 Develop a full Logistic Regression Model "
   ]
  },
  {
   "cell_type": "code",
   "execution_count": 15,
   "id": "667e6621",
   "metadata": {},
   "outputs": [],
   "source": [
    "x = cust_df.iloc[:,1:4]\n",
    "y = cust_df.iloc[:,4]"
   ]
  },
  {
   "cell_type": "code",
   "execution_count": 16,
   "id": "1e3a38e1",
   "metadata": {},
   "outputs": [],
   "source": [
    "x = pd.concat([x,pd.get_dummies(x.Gender,drop_first= True)], axis= 1)\n",
    "x.drop(columns=['Gender'], inplace= True)\n",
    "\n",
    "\n",
    "x =add_constant(x,has_constant= \"add\")"
   ]
  },
  {
   "cell_type": "code",
   "execution_count": 17,
   "id": "3dc8fdf3",
   "metadata": {},
   "outputs": [
    {
     "name": "stdout",
     "output_type": "stream",
     "text": [
      "Optimization terminated successfully.\n",
      "         Current function value: 0.344804\n",
      "         Iterations 8\n"
     ]
    }
   ],
   "source": [
    "log_reg_full = Logit(y,x).fit()"
   ]
  },
  {
   "cell_type": "code",
   "execution_count": 18,
   "id": "d08f9bdf",
   "metadata": {
    "scrolled": true
   },
   "outputs": [
    {
     "name": "stdout",
     "output_type": "stream",
     "text": [
      "                          Results: Logit\n",
      "==================================================================\n",
      "Model:               Logit            Pseudo R-squared: 0.471     \n",
      "Dependent Variable:  Purchased        AIC:              283.8432  \n",
      "Date:                2023-01-21 18:56 BIC:              299.8091  \n",
      "No. Observations:    400              Log-Likelihood:   -137.92   \n",
      "Df Model:            3                LL-Null:          -260.79   \n",
      "Df Residuals:        396              LLR p-value:      5.4877e-53\n",
      "Converged:           1.0000           Scale:            1.0000    \n",
      "No. Iterations:      8.0000                                       \n",
      "------------------------------------------------------------------\n",
      "                 Coef.   Std.Err.    z    P>|z|   [0.025   0.975] \n",
      "------------------------------------------------------------------\n",
      "const           -12.7836   1.3592 -9.4049 0.0000 -15.4477 -10.1196\n",
      "Age               0.2370   0.0264  8.9839 0.0000   0.1853   0.2887\n",
      "EstimatedSalary   0.0000   0.0000  6.6585 0.0000   0.0000   0.0000\n",
      "Male              0.3338   0.3052  1.0938 0.2741  -0.2644   0.9321\n",
      "==================================================================\n",
      "\n"
     ]
    }
   ],
   "source": [
    "print(log_reg_full.summary2())"
   ]
  },
  {
   "cell_type": "markdown",
   "id": "8fc8dd29",
   "metadata": {},
   "source": [
    "###### Q2 Also train trimmed logistic regression models (Trimmed over features in the data). Compute the \"in-sample R2\" (pseudo) for the models you train and compare the models based on this metric."
   ]
  },
  {
   "cell_type": "code",
   "execution_count": 19,
   "id": "c4be8882",
   "metadata": {},
   "outputs": [],
   "source": [
    "def run_logit(x, y, cols=['const','Age','EstimatedSalary','Male']):\n",
    "    \"\"\"\n",
    "    x: x variables \n",
    "    y: y variable \n",
    "    \n",
    "    Runs logit y ~ x where x in the dataframe of xvariables and y is the response variable\n",
    "    \n",
    "    Returns the model performance metrics as a dataframe to support model selection\n",
    "    \n",
    "    \"\"\"\n",
    "    x = x.loc[:,cols]\n",
    "    \n",
    "    x_train, x_test, y_train, y_test = train_test_split(x,y,test_size= 0.2,random_state=25)\n",
    "    \n",
    "    log_reg = Logit(y_train,x_train).fit()\n",
    "    \n",
    "    prsquare = log_reg.prsquared\n",
    "    AIC = log_reg.aic\n",
    "    BIC = log_reg.bic\n",
    "    \n",
    "    y_preds = log_reg.predict(x_test)\n",
    "    \n",
    "    y_preds_log = pd.Series([log(x) for x in y_preds],  index= y_test.index)\n",
    "    y_preds_log_1 = pd.Series([log(1-x) for x in y_preds], index= y_test.index)\n",
    "    \n",
    "    null_divience_d0 =  -2*sum(y_test*log(np.mean(y_test)) + (1-y_test)*log(1-np.mean(y_test)))\n",
    "    divience_d = -2*sum(y_test*y_preds_log + (1-y_test)*y_preds_log_1)\n",
    "    \n",
    "    oosrsquared = 1-(divience_d/null_divience_d0)\n",
    "    \n",
    "    key = \"-\".join(x.columns)\n",
    "    \n",
    "    print(log_reg.summary())\n",
    "    \n",
    "    return  pd.DataFrame(data=[key,prsquare,AIC,BIC,oosrsquared],index=['Key','prsquared','AIC','BIC','oosrsquared']).transpose()\n",
    "    "
   ]
  },
  {
   "cell_type": "code",
   "execution_count": 20,
   "id": "b98fcddd",
   "metadata": {},
   "outputs": [
    {
     "name": "stdout",
     "output_type": "stream",
     "text": [
      "Optimization terminated successfully.\n",
      "         Current function value: 0.346826\n",
      "         Iterations 8\n",
      "                           Logit Regression Results                           \n",
      "==============================================================================\n",
      "Dep. Variable:              Purchased   No. Observations:                  320\n",
      "Model:                          Logit   Df Residuals:                      316\n",
      "Method:                           MLE   Df Model:                            3\n",
      "Date:                Sat, 21 Jan 2023   Pseudo R-squ.:                  0.4704\n",
      "Time:                        18:56:07   Log-Likelihood:                -110.98\n",
      "converged:                       True   LL-Null:                       -209.55\n",
      "Covariance Type:            nonrobust   LLR p-value:                 1.758e-42\n",
      "===================================================================================\n",
      "                      coef    std err          z      P>|z|      [0.025      0.975]\n",
      "-----------------------------------------------------------------------------------\n",
      "const             -12.7443      1.496     -8.520      0.000     -15.676      -9.812\n",
      "Age                 0.2317      0.028      8.135      0.000       0.176       0.288\n",
      "EstimatedSalary  3.779e-05   6.12e-06      6.171      0.000    2.58e-05    4.98e-05\n",
      "Male                0.4655      0.343      1.355      0.175      -0.208       1.139\n",
      "===================================================================================\n"
     ]
    }
   ],
   "source": [
    "all_variables = run_logit(x,y)"
   ]
  },
  {
   "cell_type": "code",
   "execution_count": 21,
   "id": "cca596f1",
   "metadata": {},
   "outputs": [],
   "source": [
    "thecols = list(x.columns)\n",
    "collist = []\n",
    "thecols.remove('const')\n",
    "\n",
    "\n",
    "for i in range(1,4):\n",
    "    comb_list = list(combinations(thecols,i))\n",
    "    collist.append(comb_list)"
   ]
  },
  {
   "cell_type": "code",
   "execution_count": 22,
   "id": "d17cdd98",
   "metadata": {},
   "outputs": [
    {
     "data": {
      "text/plain": [
       "[[('Age',), ('EstimatedSalary',), ('Male',)],\n",
       " [('Age', 'EstimatedSalary'), ('Age', 'Male'), ('EstimatedSalary', 'Male')],\n",
       " [('Age', 'EstimatedSalary', 'Male')]]"
      ]
     },
     "execution_count": 22,
     "metadata": {},
     "output_type": "execute_result"
    }
   ],
   "source": [
    "collist"
   ]
  },
  {
   "cell_type": "code",
   "execution_count": 23,
   "id": "f38ac5d3",
   "metadata": {},
   "outputs": [],
   "source": [
    "all_col_conbs = [['const','Age', 'EstimatedSalary'],\n",
    "                 ['const','Age', 'Male'],\n",
    "                 ['const','EstimatedSalary', 'Male'],\n",
    "                 ['const','Age'],\n",
    "                 ['const','EstimatedSalary'],\n",
    "                 ['const','Male']\n",
    "                ]"
   ]
  },
  {
   "cell_type": "code",
   "execution_count": 24,
   "id": "8ab32bf6",
   "metadata": {
    "scrolled": true
   },
   "outputs": [
    {
     "name": "stdout",
     "output_type": "stream",
     "text": [
      "Optimization terminated successfully.\n",
      "         Current function value: 0.349748\n",
      "         Iterations 8\n",
      "                           Logit Regression Results                           \n",
      "==============================================================================\n",
      "Dep. Variable:              Purchased   No. Observations:                  320\n",
      "Model:                          Logit   Df Residuals:                      317\n",
      "Method:                           MLE   Df Model:                            2\n",
      "Date:                Sat, 21 Jan 2023   Pseudo R-squ.:                  0.4659\n",
      "Time:                        18:56:08   Log-Likelihood:                -111.92\n",
      "converged:                       True   LL-Null:                       -209.55\n",
      "Covariance Type:            nonrobust   LLR p-value:                 3.978e-43\n",
      "===================================================================================\n",
      "                      coef    std err          z      P>|z|      [0.025      0.975]\n",
      "-----------------------------------------------------------------------------------\n",
      "const             -12.2357      1.414     -8.653      0.000     -15.007      -9.464\n",
      "Age                 0.2272      0.028      8.150      0.000       0.173       0.282\n",
      "EstimatedSalary  3.673e-05   6.02e-06      6.099      0.000    2.49e-05    4.85e-05\n",
      "===================================================================================\n",
      "Optimization terminated successfully.\n",
      "         Current function value: 0.429389\n",
      "         Iterations 7\n",
      "                           Logit Regression Results                           \n",
      "==============================================================================\n",
      "Dep. Variable:              Purchased   No. Observations:                  320\n",
      "Model:                          Logit   Df Residuals:                      317\n",
      "Method:                           MLE   Df Model:                            2\n",
      "Date:                Sat, 21 Jan 2023   Pseudo R-squ.:                  0.3443\n",
      "Time:                        18:56:08   Log-Likelihood:                -137.40\n",
      "converged:                       True   LL-Null:                       -209.55\n",
      "Covariance Type:            nonrobust   LLR p-value:                 4.652e-32\n",
      "==============================================================================\n",
      "                 coef    std err          z      P>|z|      [0.025      0.975]\n",
      "------------------------------------------------------------------------------\n",
      "const         -7.7859      0.871     -8.943      0.000      -9.492      -6.080\n",
      "Age            0.1822      0.021      8.812      0.000       0.142       0.223\n",
      "Male           0.1251      0.302      0.414      0.679      -0.467       0.718\n",
      "==============================================================================\n",
      "Optimization terminated successfully.\n",
      "         Current function value: 0.585999\n",
      "         Iterations 5\n",
      "                           Logit Regression Results                           \n",
      "==============================================================================\n",
      "Dep. Variable:              Purchased   No. Observations:                  320\n",
      "Model:                          Logit   Df Residuals:                      317\n",
      "Method:                           MLE   Df Model:                            2\n",
      "Date:                Sat, 21 Jan 2023   Pseudo R-squ.:                  0.1051\n",
      "Time:                        18:56:08   Log-Likelihood:                -187.52\n",
      "converged:                       True   LL-Null:                       -209.55\n",
      "Covariance Type:            nonrobust   LLR p-value:                 2.707e-10\n",
      "===================================================================================\n",
      "                      coef    std err          z      P>|z|      [0.025      0.975]\n",
      "-----------------------------------------------------------------------------------\n",
      "const              -2.3677      0.357     -6.625      0.000      -3.068      -1.667\n",
      "EstimatedSalary  2.406e-05   3.94e-06      6.114      0.000    1.63e-05    3.18e-05\n",
      "Male                0.0708      0.251      0.282      0.778      -0.422       0.563\n",
      "===================================================================================\n",
      "Optimization terminated successfully.\n",
      "         Current function value: 0.429657\n",
      "         Iterations 7\n",
      "                           Logit Regression Results                           \n",
      "==============================================================================\n",
      "Dep. Variable:              Purchased   No. Observations:                  320\n",
      "Model:                          Logit   Df Residuals:                      318\n",
      "Method:                           MLE   Df Model:                            1\n",
      "Date:                Sat, 21 Jan 2023   Pseudo R-squ.:                  0.3439\n",
      "Time:                        18:56:08   Log-Likelihood:                -137.49\n",
      "converged:                       True   LL-Null:                       -209.55\n",
      "Covariance Type:            nonrobust   LLR p-value:                 3.346e-33\n",
      "==============================================================================\n",
      "                 coef    std err          z      P>|z|      [0.025      0.975]\n",
      "------------------------------------------------------------------------------\n",
      "const         -7.6967      0.839     -9.173      0.000      -9.341      -6.052\n",
      "Age            0.1816      0.021      8.820      0.000       0.141       0.222\n",
      "==============================================================================\n",
      "Optimization terminated successfully.\n",
      "         Current function value: 0.586123\n",
      "         Iterations 5\n",
      "                           Logit Regression Results                           \n",
      "==============================================================================\n",
      "Dep. Variable:              Purchased   No. Observations:                  320\n",
      "Model:                          Logit   Df Residuals:                      318\n",
      "Method:                           MLE   Df Model:                            1\n",
      "Date:                Sat, 21 Jan 2023   Pseudo R-squ.:                  0.1049\n",
      "Time:                        18:56:08   Log-Likelihood:                -187.56\n",
      "converged:                       True   LL-Null:                       -209.55\n",
      "Covariance Type:            nonrobust   LLR p-value:                 3.316e-11\n",
      "===================================================================================\n",
      "                      coef    std err          z      P>|z|      [0.025      0.975]\n",
      "-----------------------------------------------------------------------------------\n",
      "const              -2.3238      0.320     -7.255      0.000      -2.952      -1.696\n",
      "EstimatedSalary  2.397e-05   3.92e-06      6.117      0.000    1.63e-05    3.16e-05\n",
      "===================================================================================\n",
      "Optimization terminated successfully.\n",
      "         Current function value: 0.654726\n",
      "         Iterations 4\n",
      "                           Logit Regression Results                           \n",
      "==============================================================================\n",
      "Dep. Variable:              Purchased   No. Observations:                  320\n",
      "Model:                          Logit   Df Residuals:                      318\n",
      "Method:                           MLE   Df Model:                            1\n",
      "Date:                Sat, 21 Jan 2023   Pseudo R-squ.:               0.0001784\n",
      "Time:                        18:56:08   Log-Likelihood:                -209.51\n",
      "converged:                       True   LL-Null:                       -209.55\n",
      "Covariance Type:            nonrobust   LLR p-value:                    0.7845\n",
      "==============================================================================\n",
      "                 coef    std err          z      P>|z|      [0.025      0.975]\n",
      "------------------------------------------------------------------------------\n",
      "const         -0.5317      0.167     -3.186      0.001      -0.859      -0.205\n",
      "Male          -0.0636      0.233     -0.273      0.785      -0.520       0.392\n",
      "==============================================================================\n"
     ]
    }
   ],
   "source": [
    "for i in all_col_conbs:\n",
    "   all_variables = pd.concat([all_variables,run_logit(x,y,cols=i)], axis = 0, ignore_index=True) "
   ]
  },
  {
   "cell_type": "code",
   "execution_count": 25,
   "id": "5d61fb9b",
   "metadata": {},
   "outputs": [
    {
     "data": {
      "text/html": [
       "<div>\n",
       "<style scoped>\n",
       "    .dataframe tbody tr th:only-of-type {\n",
       "        vertical-align: middle;\n",
       "    }\n",
       "\n",
       "    .dataframe tbody tr th {\n",
       "        vertical-align: top;\n",
       "    }\n",
       "\n",
       "    .dataframe thead th {\n",
       "        text-align: right;\n",
       "    }\n",
       "</style>\n",
       "<table border=\"1\" class=\"dataframe\">\n",
       "  <thead>\n",
       "    <tr style=\"text-align: right;\">\n",
       "      <th></th>\n",
       "      <th>Key</th>\n",
       "      <th>prsquared</th>\n",
       "      <th>AIC</th>\n",
       "      <th>BIC</th>\n",
       "      <th>oosrsquared</th>\n",
       "    </tr>\n",
       "  </thead>\n",
       "  <tbody>\n",
       "    <tr>\n",
       "      <th>0</th>\n",
       "      <td>const-Age-EstimatedSalary-Male</td>\n",
       "      <td>0.470367</td>\n",
       "      <td>229.968888</td>\n",
       "      <td>245.042172</td>\n",
       "      <td>0.469265</td>\n",
       "    </tr>\n",
       "    <tr>\n",
       "      <th>1</th>\n",
       "      <td>const-Age-EstimatedSalary</td>\n",
       "      <td>0.465905</td>\n",
       "      <td>229.838957</td>\n",
       "      <td>241.14392</td>\n",
       "      <td>0.478211</td>\n",
       "    </tr>\n",
       "    <tr>\n",
       "      <th>2</th>\n",
       "      <td>const-Age-Male</td>\n",
       "      <td>0.344287</td>\n",
       "      <td>280.808854</td>\n",
       "      <td>292.113817</td>\n",
       "      <td>0.397495</td>\n",
       "    </tr>\n",
       "    <tr>\n",
       "      <th>3</th>\n",
       "      <td>const-EstimatedSalary-Male</td>\n",
       "      <td>0.105131</td>\n",
       "      <td>381.039201</td>\n",
       "      <td>392.344164</td>\n",
       "      <td>0.090438</td>\n",
       "    </tr>\n",
       "    <tr>\n",
       "      <th>4</th>\n",
       "      <td>const-Age</td>\n",
       "      <td>0.343878</td>\n",
       "      <td>278.980502</td>\n",
       "      <td>286.517144</td>\n",
       "      <td>0.398011</td>\n",
       "    </tr>\n",
       "    <tr>\n",
       "      <th>5</th>\n",
       "      <td>const-EstimatedSalary</td>\n",
       "      <td>0.104942</td>\n",
       "      <td>379.118596</td>\n",
       "      <td>386.655238</td>\n",
       "      <td>0.094696</td>\n",
       "    </tr>\n",
       "    <tr>\n",
       "      <th>6</th>\n",
       "      <td>const-Male</td>\n",
       "      <td>0.000178</td>\n",
       "      <td>423.024784</td>\n",
       "      <td>430.561426</td>\n",
       "      <td>0.001212</td>\n",
       "    </tr>\n",
       "  </tbody>\n",
       "</table>\n",
       "</div>"
      ],
      "text/plain": [
       "                              Key prsquared         AIC         BIC  \\\n",
       "0  const-Age-EstimatedSalary-Male  0.470367  229.968888  245.042172   \n",
       "1       const-Age-EstimatedSalary  0.465905  229.838957   241.14392   \n",
       "2                  const-Age-Male  0.344287  280.808854  292.113817   \n",
       "3      const-EstimatedSalary-Male  0.105131  381.039201  392.344164   \n",
       "4                       const-Age  0.343878  278.980502  286.517144   \n",
       "5           const-EstimatedSalary  0.104942  379.118596  386.655238   \n",
       "6                      const-Male  0.000178  423.024784  430.561426   \n",
       "\n",
       "  oosrsquared  \n",
       "0    0.469265  \n",
       "1    0.478211  \n",
       "2    0.397495  \n",
       "3    0.090438  \n",
       "4    0.398011  \n",
       "5    0.094696  \n",
       "6    0.001212  "
      ]
     },
     "execution_count": 25,
     "metadata": {},
     "output_type": "execute_result"
    }
   ],
   "source": [
    "all_variables"
   ]
  },
  {
   "cell_type": "markdown",
   "id": "eb436536",
   "metadata": {},
   "source": [
    "##### 3 For the Logistic Regression models trained above, pick the best model wrt to the in-sample R2 and give your interpretation of the model’s coefficients (For example, what effect does a positive or negative coefficient have on the model and so on)."
   ]
  },
  {
   "cell_type": "markdown",
   "id": "bce9b869",
   "metadata": {},
   "source": [
    "Based on the Pseudo R-squared values- the full-model with const, Age, EstimatedSalary, Male variables seems the best one. However, the out of sample Rsquared, AIC and BIC suggests that removing Male dummy variable adds to the model performance. \n",
    "\n",
    "To stick to the scope of the question, I am considering the full model :)."
   ]
  },
  {
   "cell_type": "code",
   "execution_count": 26,
   "id": "a763e845",
   "metadata": {},
   "outputs": [
    {
     "name": "stdout",
     "output_type": "stream",
     "text": [
      "Optimization terminated successfully.\n",
      "         Current function value: 0.346826\n",
      "         Iterations 8\n",
      "                           Logit Regression Results                           \n",
      "==============================================================================\n",
      "Dep. Variable:              Purchased   No. Observations:                  320\n",
      "Model:                          Logit   Df Residuals:                      316\n",
      "Method:                           MLE   Df Model:                            3\n",
      "Date:                Sat, 21 Jan 2023   Pseudo R-squ.:                  0.4704\n",
      "Time:                        18:56:09   Log-Likelihood:                -110.98\n",
      "converged:                       True   LL-Null:                       -209.55\n",
      "Covariance Type:            nonrobust   LLR p-value:                 1.758e-42\n",
      "===================================================================================\n",
      "                      coef    std err          z      P>|z|      [0.025      0.975]\n",
      "-----------------------------------------------------------------------------------\n",
      "const             -12.7443      1.496     -8.520      0.000     -15.676      -9.812\n",
      "Age                 0.2317      0.028      8.135      0.000       0.176       0.288\n",
      "EstimatedSalary  3.779e-05   6.12e-06      6.171      0.000    2.58e-05    4.98e-05\n",
      "Male                0.4655      0.343      1.355      0.175      -0.208       1.139\n",
      "===================================================================================\n"
     ]
    },
    {
     "data": {
      "text/html": [
       "<div>\n",
       "<style scoped>\n",
       "    .dataframe tbody tr th:only-of-type {\n",
       "        vertical-align: middle;\n",
       "    }\n",
       "\n",
       "    .dataframe tbody tr th {\n",
       "        vertical-align: top;\n",
       "    }\n",
       "\n",
       "    .dataframe thead th {\n",
       "        text-align: right;\n",
       "    }\n",
       "</style>\n",
       "<table border=\"1\" class=\"dataframe\">\n",
       "  <thead>\n",
       "    <tr style=\"text-align: right;\">\n",
       "      <th></th>\n",
       "      <th>Key</th>\n",
       "      <th>prsquared</th>\n",
       "      <th>AIC</th>\n",
       "      <th>BIC</th>\n",
       "      <th>oosrsquared</th>\n",
       "    </tr>\n",
       "  </thead>\n",
       "  <tbody>\n",
       "    <tr>\n",
       "      <th>0</th>\n",
       "      <td>const-Age-EstimatedSalary-Male</td>\n",
       "      <td>0.470367</td>\n",
       "      <td>229.968888</td>\n",
       "      <td>245.042172</td>\n",
       "      <td>0.469265</td>\n",
       "    </tr>\n",
       "  </tbody>\n",
       "</table>\n",
       "</div>"
      ],
      "text/plain": [
       "                              Key prsquared         AIC         BIC  \\\n",
       "0  const-Age-EstimatedSalary-Male  0.470367  229.968888  245.042172   \n",
       "\n",
       "  oosrsquared  \n",
       "0    0.469265  "
      ]
     },
     "execution_count": 26,
     "metadata": {},
     "output_type": "execute_result"
    }
   ],
   "source": [
    "run_logit(x,y,cols=[\"const\", \"Age\", \"EstimatedSalary\", \"Male\"])"
   ]
  },
  {
   "cell_type": "markdown",
   "id": "0024c264",
   "metadata": {},
   "source": [
    "The model is statistically significant; the LLR p-value (similar use case to the global F p-value in linear regression) is far below any reasonable significant levels. \n",
    "\n",
    "The coefficients are the additive log-odds change per unit change in respective variables. This will translate to multiplicative odds ratio after antilog transformation.  \n",
    "\n",
    "<b>Age: </b> All else equal, the odds ratio of people who purchase will multiply by a factor of exp(0.2317) i.e.1.26.\n",
    "\n",
    "<b>EstimatedSalary: </b>  All else equal, the odds ratio of people who purchase will multiply by a factor of exp(3.779e-05) i.e.1.00.\n",
    "\n",
    "<b>Male: </b> All else equal, the odds ratio of people who purchase will multiply by a factor of exp(3.779e-05) i.e.1.59.\n",
    "\n"
   ]
  },
  {
   "cell_type": "markdown",
   "id": "cc9745ef",
   "metadata": {},
   "source": [
    "##### Q4 Is accuracy a good metric to judge the above model? Give reasons and alternatives to support your answer."
   ]
  },
  {
   "cell_type": "code",
   "execution_count": 27,
   "id": "f5874e8d",
   "metadata": {},
   "outputs": [
    {
     "data": {
      "text/plain": [
       "0    0.6425\n",
       "1    0.3575\n",
       "Name: Purchased, dtype: float64"
      ]
     },
     "execution_count": 27,
     "metadata": {},
     "output_type": "execute_result"
    }
   ],
   "source": [
    "cust_df.Purchased.value_counts(normalize= True)"
   ]
  },
  {
   "cell_type": "code",
   "execution_count": 28,
   "id": "2cf71cd4",
   "metadata": {},
   "outputs": [
    {
     "name": "stdout",
     "output_type": "stream",
     "text": [
      "Optimization terminated successfully.\n",
      "         Current function value: 0.344804\n",
      "         Iterations 8\n"
     ]
    }
   ],
   "source": [
    "full_model = Logit(y,x).fit()"
   ]
  },
  {
   "cell_type": "code",
   "execution_count": 29,
   "id": "3e5dfb82",
   "metadata": {},
   "outputs": [],
   "source": [
    "predictions = [0 if x<0.5 else 1 for x in full_model.predict()]"
   ]
  },
  {
   "cell_type": "code",
   "execution_count": 30,
   "id": "bfd5f6e6",
   "metadata": {},
   "outputs": [],
   "source": [
    "cust_df[\"Predictions\"] = predictions"
   ]
  },
  {
   "cell_type": "code",
   "execution_count": 31,
   "id": "578b7679",
   "metadata": {},
   "outputs": [],
   "source": [
    "conf_mat = (confusion_matrix(cust_df['Purchased'], cust_df['Predictions']))"
   ]
  },
  {
   "cell_type": "code",
   "execution_count": 32,
   "id": "4bb7898b",
   "metadata": {},
   "outputs": [
    {
     "data": {
      "image/png": "[encoded data removed]",
      "text/plain": [
       "<Figure size 1440x432 with 2 Axes>"
      ]
     },
     "metadata": {
      "needs_background": "light"
     },
     "output_type": "display_data"
    }
   ],
   "source": [
    "fig, ax = plt.subplots(figsize=(20, 6))\n",
    "fig = ConfusionMatrixDisplay(conf_mat)\n",
    "fig.plot(ax= ax);"
   ]
  },
  {
   "cell_type": "markdown",
   "id": "139f6854",
   "metadata": {},
   "source": [
    "Class imbalance exists - with the purchased rate at 0.35, accuracy may not be reliable.  \n",
    "\n",
    "We should consider using precision, recall and F1-score as they take into account the balance of the classes. Precision tells you the true positive rate. Recall tells you the actual posities out of all the positives You can also use ROC curve which plots the true positive rate over the false positive rate for different thresholds. It represents how well the logistic model differentiates between the two classes \n"
   ]
  },
  {
   "cell_type": "markdown",
   "id": "efa27aea",
   "metadata": {},
   "source": [
    "###### Out  of Sample"
   ]
  },
  {
   "cell_type": "code",
   "execution_count": 33,
   "id": "12fb1e17",
   "metadata": {},
   "outputs": [
    {
     "name": "stdout",
     "output_type": "stream",
     "text": [
      "Optimization terminated successfully.\n",
      "         Current function value: 0.346826\n",
      "         Iterations 8\n"
     ]
    }
   ],
   "source": [
    "x_train, x_test, y_train, y_test = train_test_split(x,y,test_size= 0.2,random_state=25)\n",
    "log_reg = Logit(y_train,x_train).fit()\n",
    "\n",
    "y_preds = log_reg.predict(x_test)"
   ]
  },
  {
   "cell_type": "code",
   "execution_count": 34,
   "id": "b6389f4d",
   "metadata": {},
   "outputs": [],
   "source": [
    "y_preds_flags = [0 if x<0.5 else 1 for x in y_preds]"
   ]
  },
  {
   "cell_type": "code",
   "execution_count": 35,
   "id": "49772e5c",
   "metadata": {},
   "outputs": [],
   "source": [
    "conf_mat = (confusion_matrix(y_test, y_preds_flags))"
   ]
  },
  {
   "cell_type": "code",
   "execution_count": 36,
   "id": "29f23f85",
   "metadata": {},
   "outputs": [
    {
     "data": {
      "image/png": "[encoded data removed]",
      "text/plain": [
       "<Figure size 1440x432 with 2 Axes>"
      ]
     },
     "metadata": {
      "needs_background": "light"
     },
     "output_type": "display_data"
    }
   ],
   "source": [
    "fig, ax = plt.subplots(figsize=(20, 6))\n",
    "fig = ConfusionMatrixDisplay(conf_mat)\n",
    "fig.plot(ax= ax);"
   ]
  },
  {
   "cell_type": "code",
   "execution_count": 37,
   "id": "e39f6219",
   "metadata": {},
   "outputs": [
    {
     "data": {
      "image/png": "[encoded data removed]",
      "text/plain": [
       "<Figure size 1440x576 with 1 Axes>"
      ]
     },
     "metadata": {
      "needs_background": "light"
     },
     "output_type": "display_data"
    }
   ],
   "source": [
    "fig, ax = plt.subplots(figsize= (20,8))\n",
    "\n",
    "fpr, tpr, thresholds = roc_curve(y_test, y_preds)\n",
    "\n",
    "roc_auc = auc(fpr, tpr)\n",
    "\n",
    "RocCurveDisplay(fpr=fpr, tpr=tpr).plot(ax=ax);"
   ]
  },
  {
   "cell_type": "markdown",
   "id": "af916aa3",
   "metadata": {},
   "source": [
    "##### Q5 Plot the interactions of the ‘Age’ and ‘Gender’ features with the ‘Purchased’ output. "
   ]
  },
  {
   "cell_type": "code",
   "execution_count": 38,
   "id": "d3a0d0da",
   "metadata": {
    "scrolled": false
   },
   "outputs": [
    {
     "data": {
      "image/png": "[encoded data removed]",
      "text/plain": [
       "<Figure size 1440x432 with 1 Axes>"
      ]
     },
     "metadata": {
      "needs_background": "light"
     },
     "output_type": "display_data"
    }
   ],
   "source": [
    "fig, ax = plt.subplots(figsize=(20, 6))\n",
    "fig = sm.graphics.interaction_plot(\n",
    "    x= x.Age,\n",
    "    trace= x.Male,\n",
    "    response=full_model.predict(),\n",
    "    colors=[\"red\", \"blue\"],\n",
    "    ms=10,\n",
    "    ax=ax,\n",
    ")"
   ]
  },
  {
   "cell_type": "code",
   "execution_count": 39,
   "id": "24549204",
   "metadata": {},
   "outputs": [
    {
     "data": {
      "image/png": "[encoded data removed]",
      "text/plain": [
       "<Figure size 1440x432 with 1 Axes>"
      ]
     },
     "metadata": {
      "needs_background": "light"
     },
     "output_type": "display_data"
    }
   ],
   "source": [
    "fig, ax = plt.subplots(figsize=(20, 6))\n",
    "fig = sm.graphics.interaction_plot(x.Male, x.Age, y, legendloc='right',ax =ax)\n",
    "plt.show()"
   ]
  },
  {
   "cell_type": "markdown",
   "id": "966c7749",
   "metadata": {},
   "source": [
    "The above graph can not explain interaction - do not consider this graph."
   ]
  },
  {
   "cell_type": "code",
   "execution_count": 40,
   "id": "6f2997e0",
   "metadata": {},
   "outputs": [],
   "source": [
    "interactions = PolynomialFeatures(interaction_only=True, degree= 2)\n",
    "X_interactions = interactions.fit_transform(x.iloc[:,[1,3]])\n",
    "\n",
    "X_interactions = pd.DataFrame(X_interactions,columns=interactions.get_feature_names_out())\n",
    "X_interactions.rename(columns= {\"1\":\"const\"}, inplace=True)"
   ]
  },
  {
   "cell_type": "code",
   "execution_count": 41,
   "id": "29c07b11",
   "metadata": {},
   "outputs": [
    {
     "name": "stdout",
     "output_type": "stream",
     "text": [
      "Optimization terminated successfully.\n",
      "         Current function value: 0.426627\n",
      "         Iterations 7\n",
      "                           Logit Regression Results                           \n",
      "==============================================================================\n",
      "Dep. Variable:              Purchased   No. Observations:                  320\n",
      "Model:                          Logit   Df Residuals:                      316\n",
      "Method:                           MLE   Df Model:                            3\n",
      "Date:                Sat, 21 Jan 2023   Pseudo R-squ.:                  0.3485\n",
      "Time:                        18:56:21   Log-Likelihood:                -136.52\n",
      "converged:                       True   LL-Null:                       -209.55\n",
      "Covariance Type:            nonrobust   LLR p-value:                 1.867e-31\n",
      "==============================================================================\n",
      "                 coef    std err          z      P>|z|      [0.025      0.975]\n",
      "------------------------------------------------------------------------------\n",
      "const         -6.8178      1.068     -6.381      0.000      -8.912      -4.724\n",
      "Age            0.1584      0.026      6.144      0.000       0.108       0.209\n",
      "Male          -2.1172      1.739     -1.217      0.223      -5.526       1.291\n",
      "Age Male       0.0560      0.043      1.307      0.191      -0.028       0.140\n",
      "==============================================================================\n"
     ]
    },
    {
     "data": {
      "text/html": [
       "<div>\n",
       "<style scoped>\n",
       "    .dataframe tbody tr th:only-of-type {\n",
       "        vertical-align: middle;\n",
       "    }\n",
       "\n",
       "    .dataframe tbody tr th {\n",
       "        vertical-align: top;\n",
       "    }\n",
       "\n",
       "    .dataframe thead th {\n",
       "        text-align: right;\n",
       "    }\n",
       "</style>\n",
       "<table border=\"1\" class=\"dataframe\">\n",
       "  <thead>\n",
       "    <tr style=\"text-align: right;\">\n",
       "      <th></th>\n",
       "      <th>Key</th>\n",
       "      <th>prsquared</th>\n",
       "      <th>AIC</th>\n",
       "      <th>BIC</th>\n",
       "      <th>oosrsquared</th>\n",
       "    </tr>\n",
       "  </thead>\n",
       "  <tbody>\n",
       "    <tr>\n",
       "      <th>0</th>\n",
       "      <td>const-Age-Male-Age Male</td>\n",
       "      <td>0.348505</td>\n",
       "      <td>281.041456</td>\n",
       "      <td>296.11474</td>\n",
       "      <td>0.377518</td>\n",
       "    </tr>\n",
       "  </tbody>\n",
       "</table>\n",
       "</div>"
      ],
      "text/plain": [
       "                       Key prsquared         AIC        BIC oosrsquared\n",
       "0  const-Age-Male-Age Male  0.348505  281.041456  296.11474    0.377518"
      ]
     },
     "execution_count": 41,
     "metadata": {},
     "output_type": "execute_result"
    }
   ],
   "source": [
    "run_logit(X_interactions,y,cols= X_interactions.columns)\n",
    "\n"
   ]
  },
  {
   "cell_type": "markdown",
   "id": "059f1a3a",
   "metadata": {},
   "source": [
    "The model above lets us build a interaction graph using the coefficients. The x, y scale is in log odds "
   ]
  },
  {
   "cell_type": "code",
   "execution_count": 43,
   "id": "cfb9df54",
   "metadata": {},
   "outputs": [
    {
     "data": {
      "image/png": "[encoded data removed]",
      "text/plain": [
       "<Figure size 432x288 with 1 Axes>"
      ]
     },
     "metadata": {
      "needs_background": "light"
     },
     "output_type": "display_data"
    }
   ],
   "source": [
    "x = np.linspace(0.001, 50, 1000)\n",
    "\n",
    "plt.plot(x, 0.2144*x -8.935, linestyle='solid')\n",
    "plt.plot(x, 0.1584*x -6.8178, linestyle='solid')\n",
    "plt.legend([\"Male\", \"Female\"]);"
   ]
  },
  {
   "cell_type": "markdown",
   "id": "4dcbd4ff",
   "metadata": {},
   "source": [
    "There is no interction here. The slopes of both the lines are in the same direction"
   ]
  },
  {
   "cell_type": "markdown",
   "id": "909eba8d",
   "metadata": {},
   "source": [
    "#### Q6 The following plots show effect of Income and Change in savings on Likelihood of buying a house. Observe the three plots (a, b, c) shown and answer the following questions for each plot:"
   ]
  },
  {
   "cell_type": "markdown",
   "id": "fce53122",
   "metadata": {},
   "source": [
    "A) \n",
    "\n",
    "1. The regression may include interaction term. \n",
    "\n",
    "2. If you see clearly the last interaction line decreases as average salary increases. However the rest of the lines increase as the average salary increses. This is sign of interaction so it is best to check the significance of the interaction term. \n",
    "\n",
    "B) \n",
    "\n",
    "1. The regression should include interaction term.\n",
    "\n",
    "2. It is clear that there is interaction effect here. One line increases and the other decreases as average salary increases. This is a sign of interaction effects, and we should always include the interaction term\n",
    "\n",
    "C) \n",
    "\n",
    "1. The interaction should not be included in the model\n",
    "\n",
    "2. The trend of the lines is identical to each other so there is no interactions, so there is "
   ]
  }
 ],
 "metadata": {
  "kernelspec": {
   "display_name": "Python 3 (ipykernel)",
   "language": "python",
   "name": "python3"
  },
  "language_info": {
   "codemirror_mode": {
    "name": "ipython",
    "version": 3
   },
   "file_extension": ".py",
   "mimetype": "text/x-python",
   "name": "python",
   "nbconvert_exporter": "python",
   "pygments_lexer": "ipython3",
   "version": "3.9.12"
  }
 },
 "nbformat": 4,
 "nbformat_minor": 5
}
